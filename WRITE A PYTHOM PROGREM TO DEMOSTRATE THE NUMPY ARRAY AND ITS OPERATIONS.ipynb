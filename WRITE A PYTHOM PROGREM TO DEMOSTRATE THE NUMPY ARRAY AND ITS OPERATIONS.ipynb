{
 "cells": [
  {
   "cell_type": "markdown",
   "id": "d8df5b8c",
   "metadata": {},
   "source": [
    "# LAB1 : WRITE A PYTHOM PROGREM TO DEMOSTRATE THE NUMPY ARRAY AND ITS OPERATIONS"
   ]
  },
  {
   "cell_type": "markdown",
   "id": "e3c7b4a7",
   "metadata": {},
   "source": [
    "## INSTALATION OF NUMPY"
   ]
  },
  {
   "cell_type": "code",
   "execution_count": 1,
   "id": "979a045d",
   "metadata": {},
   "outputs": [
    {
     "name": "stdout",
     "output_type": "stream",
     "text": [
      "Requirement already satisfied: numpy in c:\\users\\student\\anaconda3\\lib\\site-packages (1.17.3)\n"
     ]
    }
   ],
   "source": [
    "# ! pip install numpy"
   ]
  },
  {
   "cell_type": "markdown",
   "id": "69fc27db",
   "metadata": {},
   "source": [
    "### Import numpy"
   ]
  },
  {
   "cell_type": "code",
   "execution_count": 2,
   "id": "12d27d1e",
   "metadata": {},
   "outputs": [
    {
     "name": "stderr",
     "output_type": "stream",
     "text": [
      "C:\\Users\\student\\Anaconda3\\lib\\site-packages\\numpy\\_distributor_init.py:32: UserWarning: loaded more than 1 DLL from .libs:\n",
      "C:\\Users\\student\\Anaconda3\\lib\\site-packages\\numpy\\.libs\\libopenblas.IPBC74C7KURV7CB2PKT5Z5FNR3SIBV4J.gfortran-win_amd64.dll\n",
      "C:\\Users\\student\\Anaconda3\\lib\\site-packages\\numpy\\.libs\\libopenblas.PYQHXLVVQ7VESDPUVUADXEVJOBGHJPAY.gfortran-win_amd64.dll\n",
      "  stacklevel=1)\n"
     ]
    }
   ],
   "source": [
    "import numpy as np"
   ]
  },
  {
   "cell_type": "markdown",
   "id": "6f51d955",
   "metadata": {},
   "source": [
    "### create numpy array using reshape()"
   ]
  },
  {
   "cell_type": "code",
   "execution_count": 4,
   "id": "759f6569",
   "metadata": {},
   "outputs": [
    {
     "name": "stdout",
     "output_type": "stream",
     "text": [
      "[[ 0  1  2  3  4]\n",
      " [ 5  6  7  8  9]\n",
      " [10 11 12 13 14]]\n"
     ]
    }
   ],
   "source": [
    "a = np.arange(15).reshape(3,5)\n",
    "print(a)"
   ]
  },
  {
   "cell_type": "markdown",
   "id": "f8d4b3a3",
   "metadata": {},
   "source": [
    "### Lets check attribute of numpy array"
   ]
  },
  {
   "cell_type": "code",
   "execution_count": 10,
   "id": "09689a20",
   "metadata": {},
   "outputs": [
    {
     "name": "stdout",
     "output_type": "stream",
     "text": [
      "dimension =  2\n",
      "Shape of array =  (3, 5)\n",
      "Size of array =  15\n",
      "Data type of array =  int32\n",
      "Itemsize =  4\n",
      "Data adress=  <memory at 0x000001A1ACF16048>\n"
     ]
    }
   ],
   "source": [
    "# check dimension \n",
    "print(\"dimension = \", a.ndim)\n",
    "\n",
    "# check the shape (no. of rows and cols)\n",
    "print(\"Shape of array = \", a.shape)\n",
    "\n",
    "# check the size (no. of element)\n",
    "print(\"Size of array = \", a.size)\n",
    "\n",
    "# check the datatype of array\n",
    "print(\"Data type of array = \", a.dtype)\n",
    "\n",
    "#check itemsize of array\n",
    "print(\"Itemsize = \", a.itemsize)\n",
    "\n",
    "#Buffer containing actual data\n",
    "print(\"Data adress= \", a.data)"
   ]
  },
  {
   "cell_type": "markdown",
   "id": "d25a3453",
   "metadata": {},
   "source": [
    "# array creation 2"
   ]
  },
  {
   "cell_type": "code",
   "execution_count": 11,
   "id": "83744b0d",
   "metadata": {},
   "outputs": [
    {
     "name": "stdout",
     "output_type": "stream",
     "text": [
      "[1 2 3 4 5]\n",
      "dimension 1\n"
     ]
    }
   ],
   "source": [
    "# 1-d array\n",
    "b = np.array([1,2,3,4,5])\n",
    "print(b)\n",
    "print(\"dimension\", b.ndim)"
   ]
  },
  {
   "cell_type": "code",
   "execution_count": 13,
   "id": "202b568a",
   "metadata": {},
   "outputs": [
    {
     "name": "stdout",
     "output_type": "stream",
     "text": [
      "[[1 2 3]\n",
      " [4 5 6]]\n",
      "Dimension =  2\n",
      "Shape =  (2, 3)\n"
     ]
    }
   ],
   "source": [
    "# 2-d array\n",
    "c = np.array([(1,2,3),(4,5,6)])\n",
    "print(c)\n",
    "print(\"Dimension = \",c.ndim)\n",
    "print(\"Shape = \",c.shape)"
   ]
  },
  {
   "cell_type": "code",
   "execution_count": 15,
   "id": "0e759dd0",
   "metadata": {},
   "outputs": [
    {
     "name": "stdout",
     "output_type": "stream",
     "text": [
      "[[[1 2 3]\n",
      "  [4 5 6]]\n",
      "\n",
      " [[5 5 5]\n",
      "  [4 4 6]]]\n",
      "Dimension =  3\n"
     ]
    }
   ],
   "source": [
    "# Task 1\n",
    "# 3-d array\n",
    "d = np.array([[(1,2,3),(4,5,6)], [(5,5,5),(4,4,6)]])\n",
    "print(d)\n",
    "print(\"Dimension = \",d.ndim)"
   ]
  },
  {
   "cell_type": "markdown",
   "id": "35827e45",
   "metadata": {},
   "source": [
    "#### Explicit datatype assignment"
   ]
  },
  {
   "cell_type": "code",
   "execution_count": 21,
   "id": "0038665e",
   "metadata": {},
   "outputs": [
    {
     "data": {
      "text/plain": [
       "array([[1. +0.j, 2. +0.j, 3. +0.j],\n",
       "       [4. +0.j, 5.2+0.j, 6. +0.j]])"
      ]
     },
     "execution_count": 21,
     "metadata": {},
     "output_type": "execute_result"
    }
   ],
   "source": [
    "e =  np.array([(1,2,3),(4,5.2,6)],dtype = 'complex')\n",
    "e"
   ]
  },
  {
   "cell_type": "markdown",
   "id": "684f0fa7",
   "metadata": {},
   "source": [
    "#### creation of some unique/standard array"
   ]
  },
  {
   "cell_type": "code",
   "execution_count": 22,
   "id": "2f7c9988",
   "metadata": {},
   "outputs": [
    {
     "data": {
      "text/plain": [
       "array([[0., 0., 0., 0.],\n",
       "       [0., 0., 0., 0.],\n",
       "       [0., 0., 0., 0.]])"
      ]
     },
     "execution_count": 22,
     "metadata": {},
     "output_type": "execute_result"
    }
   ],
   "source": [
    "# array of all zeros\n",
    "z = np.zeros((3,4))\n",
    "z"
   ]
  },
  {
   "cell_type": "code",
   "execution_count": 23,
   "id": "2bf096a6",
   "metadata": {},
   "outputs": [
    {
     "data": {
      "text/plain": [
       "array([[1., 1., 1., 1.],\n",
       "       [1., 1., 1., 1.],\n",
       "       [1., 1., 1., 1.]])"
      ]
     },
     "execution_count": 23,
     "metadata": {},
     "output_type": "execute_result"
    }
   ],
   "source": [
    "# array with all ones\n",
    "o = np.ones((3,4))\n",
    "o"
   ]
  },
  {
   "cell_type": "code",
   "execution_count": 26,
   "id": "5bfbec2c",
   "metadata": {},
   "outputs": [
    {
     "data": {
      "text/plain": [
       "array([[6.23042070e-307, 4.67296746e-307],\n",
       "       [1.69121096e-306, 4.32887141e-312]])"
      ]
     },
     "execution_count": 26,
     "metadata": {},
     "output_type": "execute_result"
    }
   ],
   "source": [
    "# empty array\n",
    "a = np.empty((2,2))\n",
    "a"
   ]
  },
  {
   "cell_type": "code",
   "execution_count": 27,
   "id": "24a1c34b",
   "metadata": {},
   "outputs": [
    {
     "name": "stdout",
     "output_type": "stream",
     "text": [
      "[[1. 0. 0. 0.]\n",
      " [0. 1. 0. 0.]\n",
      " [0. 0. 1. 0.]\n",
      " [0. 0. 0. 1.]]\n"
     ]
    }
   ],
   "source": [
    "# eye array to create diagonal matrix\n",
    "d = np.eye(4)\n",
    "print(d)"
   ]
  },
  {
   "cell_type": "code",
   "execution_count": 30,
   "id": "2481021f",
   "metadata": {},
   "outputs": [
    {
     "name": "stdout",
     "output_type": "stream",
     "text": [
      "[[100 100 100 100]\n",
      " [100 100 100 100]\n",
      " [100 100 100 100]]\n"
     ]
    }
   ],
   "source": [
    "# full array\n",
    "a = np.full((3,4),100)\n",
    "print(a)"
   ]
  },
  {
   "cell_type": "markdown",
   "id": "a50a09f6",
   "metadata": {},
   "source": [
    "### arange, Reshape and resize methods revisited"
   ]
  },
  {
   "cell_type": "markdown",
   "id": "5aae47b0",
   "metadata": {},
   "source": [
    "```np.arange(lowerbound,upper bound,step)```"
   ]
  },
  {
   "cell_type": "code",
   "execution_count": 34,
   "id": "a198b270",
   "metadata": {},
   "outputs": [
    {
     "data": {
      "text/plain": [
       "array([[0, 1, 2, 3, 4],\n",
       "       [5, 6, 7, 8, 9]])"
      ]
     },
     "execution_count": 34,
     "metadata": {},
     "output_type": "execute_result"
    }
   ],
   "source": [
    "np.arange(10).reshape(2,5)"
   ]
  },
  {
   "cell_type": "code",
   "execution_count": 36,
   "id": "ea54d88d",
   "metadata": {},
   "outputs": [
    {
     "data": {
      "text/plain": [
       "array([[ 2,  3,  4,  5,  6,  7,  8,  9, 10],\n",
       "       [11, 12, 13, 14, 15, 16, 17, 18, 19]])"
      ]
     },
     "execution_count": 36,
     "metadata": {},
     "output_type": "execute_result"
    }
   ],
   "source": [
    "np.arange(2,20).reshape(2,9)"
   ]
  },
  {
   "cell_type": "code",
   "execution_count": 37,
   "id": "14f4eac3",
   "metadata": {},
   "outputs": [
    {
     "data": {
      "text/plain": [
       "array([[ 2,  4,  6],\n",
       "       [ 8, 10, 12],\n",
       "       [14, 16, 18]])"
      ]
     },
     "execution_count": 37,
     "metadata": {},
     "output_type": "execute_result"
    }
   ],
   "source": [
    "np.arange(2,20,2).reshape(3,3)"
   ]
  },
  {
   "cell_type": "code",
   "execution_count": 44,
   "id": "578bf20c",
   "metadata": {},
   "outputs": [
    {
     "data": {
      "text/plain": [
       "array([[ 1.  ,  7.66, 14.32, 20.98, 27.64],\n",
       "       [34.3 , 40.96, 47.62, 54.28, 60.94],\n",
       "       [67.6 , 74.26, 80.92, 87.58, 94.24]])"
      ]
     },
     "execution_count": 44,
     "metadata": {},
     "output_type": "execute_result"
    }
   ],
   "source": [
    "np.arange(1,100,6.66).reshape(3,5)"
   ]
  },
  {
   "cell_type": "markdown",
   "id": "8eb84bf5",
   "metadata": {},
   "source": [
    "### linspace function\n",
    "\n",
    "*linspace is slicing function which slice range in number of steps*\n",
    "```linspace(lower,upper,no. of elements)```"
   ]
  },
  {
   "cell_type": "code",
   "execution_count": 45,
   "id": "63cf1ac0",
   "metadata": {},
   "outputs": [
    {
     "name": "stdout",
     "output_type": "stream",
     "text": [
      "a =  [[ 1.          2.14285714  3.28571429  4.42857143  5.57142857]\n",
      " [ 6.71428571  7.85714286  9.         10.14285714 11.28571429]\n",
      " [12.42857143 13.57142857 14.71428571 15.85714286 17.        ]]\n"
     ]
    }
   ],
   "source": [
    "a =np.linspace(1, 17, 15).reshape(3,5)\n",
    "print(\"a = \",a)"
   ]
  },
  {
   "cell_type": "code",
   "execution_count": 47,
   "id": "b11a2c2b",
   "metadata": {},
   "outputs": [
    {
     "name": "stdout",
     "output_type": "stream",
     "text": [
      "b = [[ 0.          3.48888889]\n",
      " [ 6.97777778 10.46666667]\n",
      " [13.95555556 17.44444444]\n",
      " [20.93333333 24.42222222]\n",
      " [27.91111111 31.4       ]]\n"
     ]
    }
   ],
   "source": [
    "b = np.linspace(0, 10*3.14, 10).reshape(5,2)\n",
    "print(\"b =\",b)"
   ]
  },
  {
   "cell_type": "markdown",
   "id": "5923e7fa",
   "metadata": {},
   "source": [
    "### Arithmetic Operations on numpy Array"
   ]
  },
  {
   "cell_type": "code",
   "execution_count": 48,
   "id": "5f2ed3f9",
   "metadata": {},
   "outputs": [
    {
     "name": "stdout",
     "output_type": "stream",
     "text": [
      "Substration of two array [20 29 38 47]\n",
      "Square of each elemnt in array b [0 1 4 9]\n",
      "element which are greater than 35 in a [False False  True  True]\n",
      "Sin values of element in a [ 0.91294525 -0.98803162  0.74511316 -0.26237485]\n"
     ]
    }
   ],
   "source": [
    "a = np.array([20, 30, 40, 50])\n",
    "b = np.arange(4)\n",
    "print(\"Substration of two array\",a-b)\n",
    "\n",
    "print(\"Square of each elemnt in array b\", b**2)\n",
    "\n",
    "print(\"element which are greater than 35 in a\",a>35)\n",
    "\n",
    "print(\"Sin values of element in a\",np.sin(a))"
   ]
  }
 ],
 "metadata": {
  "kernelspec": {
   "display_name": "Python 3 (ipykernel)",
   "language": "python",
   "name": "python3"
  },
  "language_info": {
   "codemirror_mode": {
    "name": "ipython",
    "version": 3
   },
   "file_extension": ".py",
   "mimetype": "text/x-python",
   "name": "python",
   "nbconvert_exporter": "python",
   "pygments_lexer": "ipython3",
   "version": "3.7.3"
  }
 },
 "nbformat": 4,
 "nbformat_minor": 5
}
