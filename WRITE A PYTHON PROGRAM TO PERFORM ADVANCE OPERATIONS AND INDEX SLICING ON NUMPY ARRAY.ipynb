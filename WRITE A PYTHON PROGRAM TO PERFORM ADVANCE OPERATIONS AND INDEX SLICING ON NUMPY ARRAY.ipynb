{
 "cells": [
  {
   "cell_type": "markdown",
   "id": "f02d4d05",
   "metadata": {},
   "source": [
    "# LAB3 : WRITE A PYTHON PROGRAM TO PERFORM ADVANCE OPERATIONS AND INDEX SLICING ON NUMPY ARRAY"
   ]
  },
  {
   "cell_type": "markdown",
   "id": "cefeea1e",
   "metadata": {},
   "source": [
    "## IMPORT NUMPY LIBRARY"
   ]
  },
  {
   "cell_type": "code",
   "execution_count": 1,
   "id": "7c9c139c",
   "metadata": {},
   "outputs": [],
   "source": [
    "import numpy as np"
   ]
  },
  {
   "cell_type": "markdown",
   "id": "f3b87e97",
   "metadata": {},
   "source": [
    "## Matrix multiplication "
   ]
  },
  {
   "cell_type": "code",
   "execution_count": 3,
   "id": "9c2586a1",
   "metadata": {},
   "outputs": [
    {
     "name": "stdout",
     "output_type": "stream",
     "text": [
      "[[1 2]\n",
      " [2 3]]\n",
      "[[1 0]\n",
      " [0 1]]\n"
     ]
    }
   ],
   "source": [
    "A = np.array([[1,2],[2,3]])\n",
    "\n",
    "B = np.array([[1,0],[0,1]])\n",
    "\n",
    "print(A)\n",
    "print(B)"
   ]
  },
  {
   "cell_type": "code",
   "execution_count": 4,
   "id": "eb5cfca7",
   "metadata": {},
   "outputs": [
    {
     "name": "stdout",
     "output_type": "stream",
     "text": [
      "Element wise matrix multiplication for A & B [[1 0]\n",
      " [0 3]]\n",
      "Matrix multiplication of A&B [[1 2]\n",
      " [2 3]]\n",
      "Matrix multiplication [[1 2]\n",
      " [2 3]]\n"
     ]
    }
   ],
   "source": [
    "# element wise matrix multiplication\n",
    "print(\"Element wise matrix multiplication for A & B\",A*B)\n",
    "\n",
    "# matrix multiplication\n",
    "# first way using @ operator\n",
    "print(\"Matrix multiplication of A&B\",A@B)\n",
    "\n",
    "# second way dot()\n",
    "print(\"Matrix multiplication\", A.dot(B))"
   ]
  },
  {
   "cell_type": "markdown",
   "id": "a596be96",
   "metadata": {},
   "source": [
    "## Random function and other function"
   ]
  },
  {
   "cell_type": "code",
   "execution_count": 6,
   "id": "83034fed",
   "metadata": {},
   "outputs": [
    {
     "name": "stdout",
     "output_type": "stream",
     "text": [
      "[[0.96901361 0.99660432 0.92549491]\n",
      " [0.64303755 0.02175187 0.02699143]]\n",
      "[[-0.3413726   0.01555022 -1.52108573]\n",
      " [-0.70624241  1.33433593  0.42095597]]\n",
      "[42 72 29 56 72 42 50 69 66 53]\n"
     ]
    }
   ],
   "source": [
    "# create a generator for random values\n",
    "#rg =  np.random.default_rng(1)\n",
    "#print(rg)\n",
    "\n",
    "b = np.random.rand(2,3)\n",
    "print(b)\n",
    "\n",
    "b = np.random.randn(2,3)\n",
    "print(b)\n",
    "\n",
    "\n",
    "b = np.random.randint(100, size = 10)\n",
    "print(b)\n"
   ]
  },
  {
   "cell_type": "code",
   "execution_count": 7,
   "id": "cf15a645",
   "metadata": {},
   "outputs": [
    {
     "name": "stdout",
     "output_type": "stream",
     "text": [
      "[[0 9 6 6 8 8 3 0 5 6]\n",
      " [0 5 5 7 6 8 4 0 4 4]\n",
      " [2 9 5 5 7 9 9 2 0 4]\n",
      " [8 1 8 5 4 4 0 9 3 2]\n",
      " [3 1 5 0 9 4 2 9 9 0]\n",
      " [4 6 5 5 8 9 3 2 6 4]]\n"
     ]
    }
   ],
   "source": [
    "b = np.random.randint(10, size = (6,10))\n",
    "print(b)"
   ]
  },
  {
   "cell_type": "markdown",
   "id": "3e911ed5",
   "metadata": {},
   "source": [
    "## Mathematical Function of Numpy"
   ]
  },
  {
   "cell_type": "code",
   "execution_count": 5,
   "id": "95c4e081",
   "metadata": {},
   "outputs": [
    {
     "data": {
      "text/plain": [
       "217"
      ]
     },
     "execution_count": 5,
     "metadata": {},
     "output_type": "execute_result"
    }
   ],
   "source": [
    "b.sum()"
   ]
  },
  {
   "cell_type": "code",
   "execution_count": 6,
   "id": "61d2fb95",
   "metadata": {},
   "outputs": [
    {
     "data": {
      "text/plain": [
       "9"
      ]
     },
     "execution_count": 6,
     "metadata": {},
     "output_type": "execute_result"
    }
   ],
   "source": [
    "b.max()"
   ]
  },
  {
   "cell_type": "code",
   "execution_count": 7,
   "id": "593d1e95",
   "metadata": {},
   "outputs": [
    {
     "data": {
      "text/plain": [
       "0"
      ]
     },
     "execution_count": 7,
     "metadata": {},
     "output_type": "execute_result"
    }
   ],
   "source": [
    "b.min()"
   ]
  },
  {
   "cell_type": "code",
   "execution_count": 8,
   "id": "fefeac3d",
   "metadata": {},
   "outputs": [
    {
     "data": {
      "text/plain": [
       "3.6166666666666667"
      ]
     },
     "execution_count": 8,
     "metadata": {},
     "output_type": "execute_result"
    }
   ],
   "source": [
    "b.mean()"
   ]
  },
  {
   "cell_type": "code",
   "execution_count": 9,
   "id": "50307b1a",
   "metadata": {},
   "outputs": [
    {
     "data": {
      "text/plain": [
       "array([[-0.95892427,  0.98935825,  0.        ,  0.90929743,  0.        ,\n",
       "         0.14112001, -0.2794155 ,  0.14112001,  0.84147098,  0.6569866 ],\n",
       "       [ 0.14112001,  0.84147098,  0.41211849, -0.95892427, -0.2794155 ,\n",
       "         0.        ,  0.90929743, -0.7568025 ,  0.90929743,  0.        ],\n",
       "       [ 0.        , -0.7568025 ,  0.41211849,  0.98935825,  0.84147098,\n",
       "        -0.2794155 ,  0.41211849,  0.        ,  0.84147098,  0.84147098],\n",
       "       [ 0.84147098, -0.95892427,  0.84147098,  0.84147098,  0.90929743,\n",
       "         0.98935825, -0.7568025 ,  0.98935825,  0.98935825,  0.98935825],\n",
       "       [ 0.98935825,  0.14112001,  0.        ,  0.90929743, -0.95892427,\n",
       "         0.90929743, -0.7568025 , -0.7568025 ,  0.14112001,  0.14112001],\n",
       "       [ 0.14112001,  0.98935825,  0.        , -0.95892427, -0.95892427,\n",
       "         0.        ,  0.        , -0.95892427,  0.14112001,  0.90929743]])"
      ]
     },
     "execution_count": 9,
     "metadata": {},
     "output_type": "execute_result"
    }
   ],
   "source": [
    "np.sin(b)"
   ]
  },
  {
   "cell_type": "code",
   "execution_count": 10,
   "id": "f13bfe4c",
   "metadata": {},
   "outputs": [
    {
     "data": {
      "text/plain": [
       "1.3979400086720377"
      ]
     },
     "execution_count": 10,
     "metadata": {},
     "output_type": "execute_result"
    }
   ],
   "source": [
    "np.log10(25)"
   ]
  },
  {
   "cell_type": "code",
   "execution_count": 11,
   "id": "d4ee2a43",
   "metadata": {},
   "outputs": [
    {
     "data": {
      "text/plain": [
       "162754.79141900392"
      ]
     },
     "execution_count": 11,
     "metadata": {},
     "output_type": "execute_result"
    }
   ],
   "source": [
    "np.exp(12)"
   ]
  },
  {
   "cell_type": "code",
   "execution_count": 12,
   "id": "3b81a28d",
   "metadata": {},
   "outputs": [
    {
     "data": {
      "text/plain": [
       "12.0"
      ]
     },
     "execution_count": 12,
     "metadata": {},
     "output_type": "execute_result"
    }
   ],
   "source": [
    "np.round(12.33693)"
   ]
  },
  {
   "cell_type": "markdown",
   "id": "4b18b771",
   "metadata": {},
   "source": [
    "## understand the axis in numpy array"
   ]
  },
  {
   "cell_type": "code",
   "execution_count": 11,
   "id": "711908f5",
   "metadata": {},
   "outputs": [
    {
     "name": "stdout",
     "output_type": "stream",
     "text": [
      "[[ 0  1  2  3]\n",
      " [ 4  5  6  7]\n",
      " [ 8  9 10 11]]\n"
     ]
    }
   ],
   "source": [
    "b = np.arange(12).reshape(3,4)\n",
    "print(b)"
   ]
  },
  {
   "cell_type": "markdown",
   "id": "350ececd",
   "metadata": {},
   "source": [
    "**when axis = 0 means column\n",
    "axis =  1 means rows**"
   ]
  },
  {
   "cell_type": "code",
   "execution_count": 13,
   "id": "9b67a1a7",
   "metadata": {},
   "outputs": [
    {
     "name": "stdout",
     "output_type": "stream",
     "text": [
      "[12 15 18 21]\n"
     ]
    }
   ],
   "source": [
    "# column sum\n",
    "print(b.sum(axis = 0))"
   ]
  },
  {
   "cell_type": "code",
   "execution_count": 14,
   "id": "4d8b0795",
   "metadata": {},
   "outputs": [
    {
     "name": "stdout",
     "output_type": "stream",
     "text": [
      "[ 6 22 38]\n"
     ]
    }
   ],
   "source": [
    "# row sum\n",
    "print(b.sum(axis = 1))"
   ]
  },
  {
   "cell_type": "code",
   "execution_count": 15,
   "id": "5486a1ff",
   "metadata": {},
   "outputs": [
    {
     "name": "stdout",
     "output_type": "stream",
     "text": [
      "[0 4 8]\n"
     ]
    }
   ],
   "source": [
    "# min of each row\n",
    "print(b.min(axis = 1))"
   ]
  },
  {
   "cell_type": "code",
   "execution_count": 16,
   "id": "386ee61f",
   "metadata": {},
   "outputs": [
    {
     "data": {
      "text/plain": [
       "array([[ 0,  1,  3,  6],\n",
       "       [ 4,  9, 15, 22],\n",
       "       [ 8, 17, 27, 38]], dtype=int32)"
      ]
     },
     "execution_count": 16,
     "metadata": {},
     "output_type": "execute_result"
    }
   ],
   "source": [
    "# cumulative sum along each row  \n",
    "b.cumsum(axis=1)"
   ]
  },
  {
   "cell_type": "markdown",
   "id": "0d957cb5",
   "metadata": {},
   "source": [
    "## Indexing, Slicing and Iterating"
   ]
  },
  {
   "cell_type": "code",
   "execution_count": 8,
   "id": "ed5c5ea3",
   "metadata": {},
   "outputs": [
    {
     "data": {
      "text/plain": [
       "array([ 0,  1,  2,  3,  4,  5,  6,  7,  8,  9, 10, 11, 12, 13, 14, 15])"
      ]
     },
     "execution_count": 8,
     "metadata": {},
     "output_type": "execute_result"
    }
   ],
   "source": [
    "a = np.arange(16)\n",
    "a"
   ]
  },
  {
   "cell_type": "code",
   "execution_count": 10,
   "id": "a6725899",
   "metadata": {},
   "outputs": [
    {
     "data": {
      "text/plain": [
       "array([2, 3, 4])"
      ]
     },
     "execution_count": 10,
     "metadata": {},
     "output_type": "execute_result"
    }
   ],
   "source": [
    "#print the elements from 2 to 4\n",
    "a[2:5]"
   ]
  },
  {
   "cell_type": "code",
   "execution_count": 11,
   "id": "791973cf",
   "metadata": {},
   "outputs": [
    {
     "data": {
      "text/plain": [
       "15"
      ]
     },
     "execution_count": 11,
     "metadata": {},
     "output_type": "execute_result"
    }
   ],
   "source": [
    "# print the last element\n",
    "a[-1]"
   ]
  },
  {
   "cell_type": "code",
   "execution_count": 13,
   "id": "8c2bffde",
   "metadata": {},
   "outputs": [
    {
     "data": {
      "text/plain": [
       "array([ 0,  1,  2,  3,  4,  5,  6,  7,  8,  9, 10, 11, 12, 13])"
      ]
     },
     "execution_count": 13,
     "metadata": {},
     "output_type": "execute_result"
    }
   ],
   "source": [
    "# print the all number expect last two\n",
    "a[:-2]"
   ]
  },
  {
   "cell_type": "code",
   "execution_count": 14,
   "id": "4d73c949",
   "metadata": {},
   "outputs": [
    {
     "name": "stdout",
     "output_type": "stream",
     "text": [
      "[1000    1 1000    3 1000    5 1000    7    8    9   10   11   12   13\n",
      "   14   15]\n"
     ]
    }
   ],
   "source": [
    "# from a start to position 6,\n",
    "# exclusive, set every 2nd element to 1000\n",
    "a[:7:2] = 1000\n",
    "print(a)"
   ]
  },
  {
   "cell_type": "code",
   "execution_count": 25,
   "id": "4e967af7",
   "metadata": {},
   "outputs": [
    {
     "data": {
      "text/plain": [
       "array([1000, 1000, 1000, 1000,   11,   12,   13,   14,   15])"
      ]
     },
     "execution_count": 25,
     "metadata": {},
     "output_type": "execute_result"
    }
   ],
   "source": [
    "# find all the elemnts in array greater than 10\n",
    "# a[condition]\n",
    "a[a > 10]"
   ]
  },
  {
   "cell_type": "markdown",
   "id": "4b635d9c",
   "metadata": {},
   "source": [
    "## Array ceration using Function"
   ]
  },
  {
   "cell_type": "code",
   "execution_count": 26,
   "id": "8e55a004",
   "metadata": {},
   "outputs": [
    {
     "name": "stdout",
     "output_type": "stream",
     "text": [
      "[[ 0  1  2  3]\n",
      " [10 11 12 13]\n",
      " [20 21 22 23]\n",
      " [30 31 32 33]\n",
      " [40 41 42 43]]\n"
     ]
    }
   ],
   "source": [
    "# array creation from function\n",
    "def f(x, y):\n",
    "    return 10 * x + y\n",
    "\n",
    "b = np.fromfunction(f, (5,4), dtype=int)\n",
    "print(b)"
   ]
  },
  {
   "cell_type": "markdown",
   "id": "ce13a362",
   "metadata": {},
   "source": [
    "## Shape Manipulation"
   ]
  },
  {
   "cell_type": "code",
   "execution_count": 26,
   "id": "07edb739",
   "metadata": {},
   "outputs": [
    {
     "name": "stdout",
     "output_type": "stream",
     "text": [
      "[[9. 9. 9. 4.]\n",
      " [4. 5. 2. 0.]\n",
      " [7. 6. 2. 7.]]\n",
      "Shape (3, 4)\n"
     ]
    }
   ],
   "source": [
    "a = np.floor(10 * np.random.rand(3, 4))\n",
    "print(a)\n",
    "print(\"Shape\",a.shape)"
   ]
  },
  {
   "cell_type": "code",
   "execution_count": 27,
   "id": "08e54f66",
   "metadata": {},
   "outputs": [
    {
     "name": "stdout",
     "output_type": "stream",
     "text": [
      "Flattened arra a =  [9. 9. 9. 4. 4. 5. 2. 0. 7. 6. 2. 7.]\n"
     ]
    }
   ],
   "source": [
    "# flattened\n",
    "print(\"Flattened array a = \",a.ravel())"
   ]
  },
  {
   "cell_type": "code",
   "execution_count": 28,
   "id": "b27ebfbb",
   "metadata": {},
   "outputs": [
    {
     "name": "stdout",
     "output_type": "stream",
     "text": [
      "Transpose of array a =  [[9. 4. 7.]\n",
      " [9. 5. 6.]\n",
      " [9. 2. 2.]\n",
      " [4. 0. 7.]]\n"
     ]
    }
   ],
   "source": [
    "#transpose\n",
    "print(\"Transpose of array a = \",a.T)"
   ]
  },
  {
   "cell_type": "markdown",
   "id": "1f8ad3b4",
   "metadata": {},
   "source": [
    "## Stacking together different arrays"
   ]
  },
  {
   "cell_type": "code",
   "execution_count": 30,
   "id": "32bbb1cb",
   "metadata": {},
   "outputs": [
    {
     "name": "stdout",
     "output_type": "stream",
     "text": [
      "[[4. 1.]\n",
      " [7. 8.]]\n",
      "[[7. 6.]\n",
      " [0. 8.]]\n"
     ]
    }
   ],
   "source": [
    "a = np.floor(10 * np.random.rand(2, 2))\n",
    "\n",
    "b = np.floor(10 * np.random.rand(2, 2))\n",
    "print(a)\n",
    "print(b)"
   ]
  },
  {
   "cell_type": "code",
   "execution_count": 31,
   "id": "0e0c05a8",
   "metadata": {},
   "outputs": [
    {
     "name": "stdout",
     "output_type": "stream",
     "text": [
      "AFTER VERTICAL STACKING -- [[4. 1.]\n",
      " [7. 8.]\n",
      " [7. 6.]\n",
      " [0. 8.]]\n"
     ]
    }
   ],
   "source": [
    "# vertical stacking\n",
    "print(\"AFTER VERTICAL STACKING --\",np.vstack((a,b)))"
   ]
  },
  {
   "cell_type": "code",
   "execution_count": 32,
   "id": "1c1e8a9d",
   "metadata": {},
   "outputs": [
    {
     "name": "stdout",
     "output_type": "stream",
     "text": [
      "AFTER HORIZONTAL STACKING -- [[4. 1. 7. 6.]\n",
      " [7. 8. 0. 8.]]\n"
     ]
    }
   ],
   "source": [
    "# horizontal stacking\n",
    "print(\"AFTER HORIZONTAL STACKING --\",np.hstack((a,b)))"
   ]
  },
  {
   "cell_type": "markdown",
   "id": "1661ced5",
   "metadata": {},
   "source": [
    "## How to get unique items and counts"
   ]
  },
  {
   "cell_type": "code",
   "execution_count": 33,
   "id": "1b1e5cbd",
   "metadata": {},
   "outputs": [
    {
     "data": {
      "text/plain": [
       "array([11, 11, 12, 13, 14, 15, 16, 17, 12, 13, 11, 14, 18, 19, 20])"
      ]
     },
     "execution_count": 33,
     "metadata": {},
     "output_type": "execute_result"
    }
   ],
   "source": [
    "a = np.array([11, 11, 12, 13, 14, 15, 16, \n",
    "              17, 12, 13, 11, 14, 18, 19, 20])\n",
    "a"
   ]
  },
  {
   "cell_type": "code",
   "execution_count": 34,
   "id": "302adb20",
   "metadata": {},
   "outputs": [
    {
     "name": "stdout",
     "output_type": "stream",
     "text": [
      "[11 12 13 14 15 16 17 18 19 20]\n"
     ]
    }
   ],
   "source": [
    "unique_values = np.unique(a)\n",
    "print(unique_values)"
   ]
  },
  {
   "cell_type": "markdown",
   "id": "b8f36b63",
   "metadata": {},
   "source": [
    "# count the no. of time unique value repeated\n",
    "unique_values, indices , count = np.unique(a,\n",
    "                return_index = True,return_counts=True)\n",
    "print(unique_values)\n",
    "print(indices)\n",
    "print(count)"
   ]
  },
  {
   "cell_type": "markdown",
   "id": "6d9c08eb",
   "metadata": {},
   "source": [
    "## Adding, removing, and sorting elements"
   ]
  },
  {
   "cell_type": "code",
   "execution_count": 36,
   "id": "22a6b0de",
   "metadata": {},
   "outputs": [
    {
     "data": {
      "text/plain": [
       "array([1, 2, 3, 4, 5, 6, 7, 8])"
      ]
     },
     "execution_count": 36,
     "metadata": {},
     "output_type": "execute_result"
    }
   ],
   "source": [
    "# sorting\n",
    "arr = np.array([2, 1, 5, 3, 7, 4, 6, 8])\n",
    "np.sort(arr)"
   ]
  },
  {
   "cell_type": "code",
   "execution_count": 38,
   "id": "fa69b77f",
   "metadata": {},
   "outputs": [
    {
     "data": {
      "text/plain": [
       "array([1, 2, 3, 4, 5, 6, 7, 8])"
      ]
     },
     "execution_count": 38,
     "metadata": {},
     "output_type": "execute_result"
    }
   ],
   "source": [
    "# concatenation\n",
    "a = np.array([1, 2, 3, 4])\n",
    "b = np.array([5, 6, 7, 8])\n",
    "np.concatenate((a, b))"
   ]
  },
  {
   "cell_type": "markdown",
   "id": "5a45ca2b",
   "metadata": {},
   "source": [
    "## Test Your K"
   ]
  }
 ],
 "metadata": {
  "kernelspec": {
   "display_name": "Python 3 (ipykernel)",
   "language": "python",
   "name": "python3"
  },
  "language_info": {
   "codemirror_mode": {
    "name": "ipython",
    "version": 3
   },
   "file_extension": ".py",
   "mimetype": "text/x-python",
   "name": "python",
   "nbconvert_exporter": "python",
   "pygments_lexer": "ipython3",
   "version": "3.11.7"
  },
  "widgets": {
   "application/vnd.jupyter.widget-state+json": {
    "state": {},
    "version_major": 2,
    "version_minor": 0
   }
  }
 },
 "nbformat": 4,
 "nbformat_minor": 5
}
