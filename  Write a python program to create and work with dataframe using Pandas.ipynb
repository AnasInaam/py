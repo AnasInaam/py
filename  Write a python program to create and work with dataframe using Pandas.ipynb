{
 "cells": [
  {
   "cell_type": "markdown",
   "id": "3d73c0ec",
   "metadata": {},
   "source": [
    "# LAB 4 : Write a python program to create and work with dataframe using Pandas"
   ]
  },
  {
   "cell_type": "markdown",
   "id": "9c39e8bf",
   "metadata": {},
   "source": [
    "## Import Libraries"
   ]
  },
  {
   "cell_type": "code",
   "execution_count": 1,
   "id": "4d39110c",
   "metadata": {},
   "outputs": [
    {
     "name": "stdout",
     "output_type": "stream",
     "text": [
      "1.26.4\n",
      "2.1.4\n"
     ]
    }
   ],
   "source": [
    "import numpy as np\n",
    "import pandas as pd\n",
    "# version installed \n",
    "print(np.__version__)\n",
    "print(pd.__version__)"
   ]
  },
  {
   "cell_type": "markdown",
   "id": "df5cbf97",
   "metadata": {},
   "source": [
    "## Creation of Dataframe using Pandas\n",
    "### 1. Using Dictionary"
   ]
  },
  {
   "cell_type": "code",
   "execution_count": 2,
   "id": "faf5c1d9",
   "metadata": {},
   "outputs": [
    {
     "name": "stdout",
     "output_type": "stream",
     "text": [
      "   apple  orange\n",
      "0      0       5\n",
      "1      3       1\n",
      "2      5       2\n",
      "3      2       0\n"
     ]
    }
   ],
   "source": [
    "dict = { 'apple' : [0,3,5,2],\n",
    "        'orange' : [5,1,2,0]\n",
    "    }\n",
    "\n",
    "df = pd.DataFrame(dict)\n",
    "\n",
    "print(df)"
   ]
  },
  {
   "cell_type": "markdown",
   "id": "87a1fb35",
   "metadata": {},
   "source": [
    "### Adding Index to rows"
   ]
  },
  {
   "cell_type": "code",
   "execution_count": 5,
   "id": "60944eee",
   "metadata": {},
   "outputs": [
    {
     "name": "stdout",
     "output_type": "stream",
     "text": [
      "           apple  orange\n",
      "Jaykishan      0       5\n",
      "Pavan          3       1\n",
      "Nishant        5       2\n",
      "Kalpesh        2       0\n"
     ]
    }
   ],
   "source": [
    "df = pd.DataFrame(dict, index = ['Jaykishan','Pavan',\n",
    "                                'Nishant','Kalpesh'])\n",
    "print(df)"
   ]
  },
  {
   "cell_type": "code",
   "execution_count": 6,
   "id": "b1d4a9ab",
   "metadata": {},
   "outputs": [
    {
     "data": {
      "text/plain": [
       "1"
      ]
     },
     "execution_count": 6,
     "metadata": {},
     "output_type": "execute_result"
    }
   ],
   "source": [
    "df.loc['Pavan','orange']"
   ]
  },
  {
   "cell_type": "markdown",
   "id": "d9e15b53",
   "metadata": {},
   "source": [
    "## 2. By reading External files"
   ]
  },
  {
   "cell_type": "markdown",
   "id": "eaf92016",
   "metadata": {},
   "source": [
    "### A. How to read .csv file"
   ]
  },
  {
   "cell_type": "code",
   "execution_count": 7,
   "id": "133a21f6",
   "metadata": {},
   "outputs": [
    {
     "name": "stdout",
     "output_type": "stream",
     "text": [
      "    index  apples  oranges\n",
      "0    June       3        0\n",
      "1  Robert       2        3\n",
      "2    Lily       0        7\n",
      "3   David       1        2\n"
     ]
    }
   ],
   "source": [
    "data = pd.read_csv('purchases.csv',sep = \",\")\n",
    "print(data)"
   ]
  },
  {
   "cell_type": "code",
   "execution_count": 8,
   "id": "eb47d147",
   "metadata": {},
   "outputs": [
    {
     "name": "stdout",
     "output_type": "stream",
     "text": [
      "        apples  oranges\n",
      "index                  \n",
      "June         3        0\n",
      "Robert       2        3\n",
      "Lily         0        7\n",
      "David        1        2\n"
     ]
    }
   ],
   "source": [
    "# Adding indexes to rows \n",
    "# you want to make first col as index for rows\n",
    "data = pd.read_csv('purchases.csv',index_col = 0)\n",
    "print(data)"
   ]
  },
  {
   "cell_type": "markdown",
   "id": "1b851f10",
   "metadata": {},
   "source": [
    "### B. Reading data from JSON"
   ]
  },
  {
   "cell_type": "code",
   "execution_count": 9,
   "id": "2ccf6177",
   "metadata": {},
   "outputs": [
    {
     "data": {
      "text/html": [
       "<div>\n",
       "<style scoped>\n",
       "    .dataframe tbody tr th:only-of-type {\n",
       "        vertical-align: middle;\n",
       "    }\n",
       "\n",
       "    .dataframe tbody tr th {\n",
       "        vertical-align: top;\n",
       "    }\n",
       "\n",
       "    .dataframe thead th {\n",
       "        text-align: right;\n",
       "    }\n",
       "</style>\n",
       "<table border=\"1\" class=\"dataframe\">\n",
       "  <thead>\n",
       "    <tr style=\"text-align: right;\">\n",
       "      <th></th>\n",
       "      <th>apples</th>\n",
       "      <th>oranges</th>\n",
       "    </tr>\n",
       "  </thead>\n",
       "  <tbody>\n",
       "    <tr>\n",
       "      <th>David</th>\n",
       "      <td>1</td>\n",
       "      <td>2</td>\n",
       "    </tr>\n",
       "    <tr>\n",
       "      <th>June</th>\n",
       "      <td>3</td>\n",
       "      <td>0</td>\n",
       "    </tr>\n",
       "    <tr>\n",
       "      <th>Lily</th>\n",
       "      <td>0</td>\n",
       "      <td>7</td>\n",
       "    </tr>\n",
       "    <tr>\n",
       "      <th>Robert</th>\n",
       "      <td>2</td>\n",
       "      <td>3</td>\n",
       "    </tr>\n",
       "  </tbody>\n",
       "</table>\n",
       "</div>"
      ],
      "text/plain": [
       "        apples  oranges\n",
       "David        1        2\n",
       "June         3        0\n",
       "Lily         0        7\n",
       "Robert       2        3"
      ]
     },
     "execution_count": 9,
     "metadata": {},
     "output_type": "execute_result"
    }
   ],
   "source": [
    "df = pd.read_json('purchases.json')\n",
    "\n",
    "df"
   ]
  },
  {
   "cell_type": "markdown",
   "id": "164cc01b",
   "metadata": {},
   "source": [
    "### C. Reading data from Excel"
   ]
  },
  {
   "cell_type": "code",
   "execution_count": 10,
   "id": "44f178a0",
   "metadata": {},
   "outputs": [
    {
     "name": "stdout",
     "output_type": "stream",
     "text": [
      "  Product     Prize\n",
      "0   Shirt     500.5\n",
      "1   Mobile  16000.0\n",
      "2   Laptop  70000.0\n",
      "3     Brus     30.0\n"
     ]
    }
   ],
   "source": [
    "df = pd.read_excel('sample.xlsx',dtype = {\"Products\": str, \n",
    "                            \"Price\":float}) \n",
    "print(df) "
   ]
  },
  {
   "cell_type": "markdown",
   "id": "973c0bb3",
   "metadata": {},
   "source": [
    "### D. Reading data from a SQL database\n"
   ]
  },
  {
   "cell_type": "code",
   "execution_count": null,
   "id": "3301eff5",
   "metadata": {},
   "outputs": [],
   "source": [
    "# !pip install pysqlite3"
   ]
  },
  {
   "cell_type": "code",
   "execution_count": 14,
   "id": "d739008a",
   "metadata": {},
   "outputs": [],
   "source": [
    "# connection to a SQLite database file\n",
    "import sqlite3\n",
    "\n",
    "con = sqlite3.connect(\"database.db\")"
   ]
  },
  {
   "cell_type": "markdown",
   "id": "c8b2a600",
   "metadata": {},
   "source": [
    "**In this SQLite database we have a table called purchases,  and our index is in a column called \"index\".**"
   ]
  },
  {
   "cell_type": "code",
   "execution_count": 17,
   "id": "725b73ee",
   "metadata": {},
   "outputs": [
    {
     "data": {
      "text/html": [
       "<div>\n",
       "<style scoped>\n",
       "    .dataframe tbody tr th:only-of-type {\n",
       "        vertical-align: middle;\n",
       "    }\n",
       "\n",
       "    .dataframe tbody tr th {\n",
       "        vertical-align: top;\n",
       "    }\n",
       "\n",
       "    .dataframe thead th {\n",
       "        text-align: right;\n",
       "    }\n",
       "</style>\n",
       "<table border=\"1\" class=\"dataframe\">\n",
       "  <thead>\n",
       "    <tr style=\"text-align: right;\">\n",
       "      <th></th>\n",
       "      <th>index</th>\n",
       "      <th>apples</th>\n",
       "      <th>oranges</th>\n",
       "    </tr>\n",
       "  </thead>\n",
       "  <tbody>\n",
       "    <tr>\n",
       "      <th>0</th>\n",
       "      <td>June</td>\n",
       "      <td>3</td>\n",
       "      <td>0</td>\n",
       "    </tr>\n",
       "    <tr>\n",
       "      <th>1</th>\n",
       "      <td>Robert</td>\n",
       "      <td>2</td>\n",
       "      <td>3</td>\n",
       "    </tr>\n",
       "    <tr>\n",
       "      <th>2</th>\n",
       "      <td>Lily</td>\n",
       "      <td>0</td>\n",
       "      <td>7</td>\n",
       "    </tr>\n",
       "    <tr>\n",
       "      <th>3</th>\n",
       "      <td>David</td>\n",
       "      <td>1</td>\n",
       "      <td>2</td>\n",
       "    </tr>\n",
       "  </tbody>\n",
       "</table>\n",
       "</div>"
      ],
      "text/plain": [
       "    index  apples  oranges\n",
       "0    June       3        0\n",
       "1  Robert       2        3\n",
       "2    Lily       0        7\n",
       "3   David       1        2"
      ]
     },
     "execution_count": 17,
     "metadata": {},
     "output_type": "execute_result"
    }
   ],
   "source": [
    "df = pd.read_sql_query(\"SELECT * FROM purchases\", con)\n",
    "\n",
    "df"
   ]
  },
  {
   "cell_type": "code",
   "execution_count": 18,
   "id": "329c565d",
   "metadata": {},
   "outputs": [
    {
     "data": {
      "text/html": [
       "<div>\n",
       "<style scoped>\n",
       "    .dataframe tbody tr th:only-of-type {\n",
       "        vertical-align: middle;\n",
       "    }\n",
       "\n",
       "    .dataframe tbody tr th {\n",
       "        vertical-align: top;\n",
       "    }\n",
       "\n",
       "    .dataframe thead th {\n",
       "        text-align: right;\n",
       "    }\n",
       "</style>\n",
       "<table border=\"1\" class=\"dataframe\">\n",
       "  <thead>\n",
       "    <tr style=\"text-align: right;\">\n",
       "      <th></th>\n",
       "      <th>apples</th>\n",
       "      <th>oranges</th>\n",
       "    </tr>\n",
       "    <tr>\n",
       "      <th>index</th>\n",
       "      <th></th>\n",
       "      <th></th>\n",
       "    </tr>\n",
       "  </thead>\n",
       "  <tbody>\n",
       "    <tr>\n",
       "      <th>June</th>\n",
       "      <td>3</td>\n",
       "      <td>0</td>\n",
       "    </tr>\n",
       "    <tr>\n",
       "      <th>Robert</th>\n",
       "      <td>2</td>\n",
       "      <td>3</td>\n",
       "    </tr>\n",
       "    <tr>\n",
       "      <th>Lily</th>\n",
       "      <td>0</td>\n",
       "      <td>7</td>\n",
       "    </tr>\n",
       "    <tr>\n",
       "      <th>David</th>\n",
       "      <td>1</td>\n",
       "      <td>2</td>\n",
       "    </tr>\n",
       "  </tbody>\n",
       "</table>\n",
       "</div>"
      ],
      "text/plain": [
       "        apples  oranges\n",
       "index                  \n",
       "June         3        0\n",
       "Robert       2        3\n",
       "Lily         0        7\n",
       "David        1        2"
      ]
     },
     "execution_count": 18,
     "metadata": {},
     "output_type": "execute_result"
    }
   ],
   "source": [
    "df = df.set_index('index')\n",
    "\n",
    "df"
   ]
  },
  {
   "cell_type": "markdown",
   "id": "32659f61",
   "metadata": {},
   "source": [
    "### 4. Reading Text file"
   ]
  },
  {
   "cell_type": "markdown",
   "id": "e8b9a488",
   "metadata": {},
   "source": [
    "**Read Text Files with Pandas**<br>\n",
    "Below are the methods by which we can read text files with Pandas:\n",
    "\n",
    "- Using read_csv()\n",
    "- Using read_table()\n",
    "- Using read_fwf()"
   ]
  },
  {
   "cell_type": "markdown",
   "id": "b1c17485",
   "metadata": {},
   "source": [
    "#### Read Text Files with Pandas Using read_csv()\n",
    "**Syntax:** \n",
    "\n",
    "`data=pandas.read_csv(‘filename.txt’, sep=’ ‘, header=None, names=[“Column1”, “Column2”])`\n",
    "\n"
   ]
  },
  {
   "cell_type": "code",
   "execution_count": 21,
   "id": "e4143d60",
   "metadata": {},
   "outputs": [
    {
     "name": "stdout",
     "output_type": "stream",
     "text": [
      "     Team1   Team2\n",
      "0  Batsmen  Bowler\n",
      "1    Rohit  Bumrah\n",
      "2    Viraj   Siraj\n",
      "3    Rahul   Shami\n",
      "4    Dhoni  ashwin\n",
      "5    Raina  Jadeja\n"
     ]
    }
   ],
   "source": [
    "# read text file into pandas DataFrame\n",
    "df = pd.read_csv(\"sample.txt\", sep=\" \",header = None,\n",
    "                 names = [\"Team1\",\"Team2\"])\n",
    "\n",
    "# display DataFrame\n",
    "print(df)\n"
   ]
  },
  {
   "cell_type": "markdown",
   "id": "fe7b5b7a",
   "metadata": {},
   "source": [
    "#### Read Text Files with Pandas Using read_table()\n",
    "\n",
    "**Syntax:** `data=pandas.read_table(‘filename.txt’, delimiter = ‘ ‘)`"
   ]
  },
  {
   "cell_type": "code",
   "execution_count": 22,
   "id": "6d4a5219",
   "metadata": {},
   "outputs": [
    {
     "name": "stdout",
     "output_type": "stream",
     "text": [
      "  Batsmen  Bowler\n",
      "0   Rohit  Bumrah\n",
      "1   Viraj   Siraj\n",
      "2   Rahul   Shami\n",
      "3   Dhoni  ashwin\n",
      "4   Raina  Jadeja\n"
     ]
    },
    {
     "name": "stderr",
     "output_type": "stream",
     "text": [
      "C:\\ProgramData\\Anaconda3\\lib\\site-packages\\ipykernel_launcher.py:2: FutureWarning: read_table is deprecated, use read_csv instead.\n",
      "  \n"
     ]
    }
   ],
   "source": [
    "# read text file into pandas DataFrame\n",
    "df = pd.read_table(\"sample.txt\", delimiter=\" \")\n",
    "\n",
    "# display DataFrame\n",
    "print(df)"
   ]
  },
  {
   "cell_type": "markdown",
   "id": "3999552b",
   "metadata": {},
   "source": [
    "#### Read Text Files with Pandas Using read_fwf()\n",
    "**Syntax:** `data=pandas.read_fwf(‘filename.txt’)`"
   ]
  },
  {
   "cell_type": "code",
   "execution_count": 23,
   "id": "5a76dc70",
   "metadata": {},
   "outputs": [
    {
     "name": "stdout",
     "output_type": "stream",
     "text": [
      "  Batsmen Bowler\n",
      "0   Rohit Bumrah\n",
      "1    Viraj Siraj\n",
      "2    Rahul Shami\n",
      "3   Dhoni ashwin\n",
      "4   Raina Jadeja\n"
     ]
    }
   ],
   "source": [
    "# read text file into pandas DataFrame\n",
    "df = pd.read_fwf(\"sample.txt\")\n",
    "\n",
    "# display DataFrame\n",
    "print(df)"
   ]
  },
  {
   "cell_type": "markdown",
   "id": "0bef54c3",
   "metadata": {},
   "source": [
    "### Converting back to a CSV, JSON, or SQL"
   ]
  },
  {
   "cell_type": "code",
   "execution_count": 24,
   "id": "39b9ed23",
   "metadata": {},
   "outputs": [],
   "source": [
    "df.to_csv('new_purchases11.csv')"
   ]
  },
  {
   "cell_type": "code",
   "execution_count": 25,
   "id": "9fa429c6",
   "metadata": {},
   "outputs": [],
   "source": [
    "df.to_json('new_purchases.json')"
   ]
  },
  {
   "cell_type": "code",
   "execution_count": 28,
   "id": "1e332e2f",
   "metadata": {},
   "outputs": [],
   "source": [
    "df.to_sql('new_purchases102', con)"
   ]
  },
  {
   "cell_type": "markdown",
   "id": "8522de2d",
   "metadata": {},
   "source": [
    "### Test your Knowledge"
   ]
  },
  {
   "cell_type": "markdown",
   "id": "1604cac5",
   "metadata": {},
   "source": [
    "**Q1** : "
   ]
  },
  {
   "cell_type": "code",
   "execution_count": null,
   "id": "b55b1b67",
   "metadata": {},
   "outputs": [],
   "source": []
  }
 ],
 "metadata": {
  "kernelspec": {
   "display_name": "Python 3 (ipykernel)",
   "language": "python",
   "name": "python3"
  },
  "language_info": {
   "codemirror_mode": {
    "name": "ipython",
    "version": 3
   },
   "file_extension": ".py",
   "mimetype": "text/x-python",
   "name": "python",
   "nbconvert_exporter": "python",
   "pygments_lexer": "ipython3",
   "version": "3.11.7"
  },
  "widgets": {
   "application/vnd.jupyter.widget-state+json": {
    "state": {},
    "version_major": 2,
    "version_minor": 0
   }
  }
 },
 "nbformat": 4,
 "nbformat_minor": 5
}
